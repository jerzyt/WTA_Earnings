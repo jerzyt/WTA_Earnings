{
 "cells": [
  {
   "cell_type": "code",
   "execution_count": null,
   "id": "ceramic-tractor",
   "metadata": {},
   "outputs": [],
   "source": [
    "import pandas as pd\n",
    "import numpy as np\n",
    "import re"
   ]
  },
  {
   "cell_type": "code",
   "execution_count": null,
   "id": "several-pontiac",
   "metadata": {},
   "outputs": [],
   "source": [
    "pi = pd.read_pickle('./Data/player_info.pickle')\n",
    "pi.head(50)"
   ]
  },
  {
   "cell_type": "code",
   "execution_count": null,
   "id": "basic-seminar",
   "metadata": {},
   "outputs": [],
   "source": [
    "@np.vectorize\n",
    "\n",
    "def parse_age(value):\n",
    "    print('==========================================')\n",
    "    print(value)\n",
    "    print(type(value))\n",
    "    if type(value) == str:\n",
    "        re_res = re.search(r'age\\s+(\\d{2})', value)\n",
    "        if re_res:\n",
    "            print('match')\n",
    "            age = re_res.group(1)\n",
    "            print('age = ' + age)\n",
    "            return age\n",
    "        else:\n",
    "            print('Not matched')\n",
    "    else:\n",
    "        return None\n",
    "\n",
    "pi['Age'] = parse_age(pi['Born'])"
   ]
  },
  {
   "cell_type": "code",
   "execution_count": null,
   "id": "regional-gardening",
   "metadata": {},
   "outputs": [],
   "source": [
    "@np.vectorize\n",
    "\n",
    "def parse_height(value):\n",
    "    print('==========================================')\n",
    "    print(value)\n",
    "    print(type(value))\n",
    "    if type(value) == str:\n",
    "        re_res = re.search(r'(\\d{3}).cm', value)\n",
    "        if re_res:\n",
    "            height = re_res.group(1)\n",
    "            print('height = ' + height)\n",
    "            return height\n",
    "        else:\n",
    "            re_res = re.search(r'(\\d\\.\\d\\d).m', value)\n",
    "            if re_res:\n",
    "                height = re_res.group(1)\n",
    "                print('height = ' + height)\n",
    "                return height.replace('.', '')\n",
    "    else:\n",
    "        return None\n",
    "\n",
    "pi['Height_x'] = parse_height(pi['Height'])"
   ]
  },
  {
   "cell_type": "code",
   "execution_count": null,
   "id": "independent-sigma",
   "metadata": {},
   "outputs": [],
   "source": [
    "@np.vectorize\n",
    "\n",
    "def parse_rank(value):\n",
    "    print('==========================================')\n",
    "    print(value)\n",
    "    print(type(value))\n",
    "    if type(value) == str:\n",
    "        re_res = re.search(r'No. (\\d+)', value)\n",
    "        if re_res:\n",
    "            rank = re_res.group(1)\n",
    "            print('rank = ' + rank)\n",
    "            return rank\n",
    "    else:\n",
    "        return None\n",
    "\n",
    "pi['HighRank_x'] = parse_rank(pi['HighRank'])"
   ]
  },
  {
   "cell_type": "code",
   "execution_count": null,
   "id": "placed-strain",
   "metadata": {},
   "outputs": [],
   "source": [
    "@np.vectorize\n",
    "\n",
    "def parse_year_of_high_rank(value):\n",
    "    print('==========================================')\n",
    "    print(value)\n",
    "    print(type(value))\n",
    "    if type(value) == str:\n",
    "        re_res = re.search(r'(\\d{4})', value)\n",
    "        if re_res:\n",
    "            year_of_high_rank = re_res.group(1)\n",
    "            print('year_of_high_rank = ' + year_of_high_rank)\n",
    "            return year_of_high_rank\n",
    "    else:\n",
    "        return None\n",
    "\n",
    "pi['YearOfHighRank'] = parse_year_of_high_rank(pi['HighRank'])"
   ]
  },
  {
   "cell_type": "code",
   "execution_count": null,
   "id": "colored-audio",
   "metadata": {},
   "outputs": [],
   "source": [
    "pi.head(50)"
   ]
  },
  {
   "cell_type": "code",
   "execution_count": null,
   "id": "automatic-appliance",
   "metadata": {},
   "outputs": [],
   "source": [
    "pi.to_html('./Data/parsed_player_info.html')"
   ]
  }
 ],
 "metadata": {
  "kernelspec": {
   "display_name": "Python 3",
   "language": "python",
   "name": "python3"
  },
  "language_info": {
   "codemirror_mode": {
    "name": "ipython",
    "version": 3
   },
   "file_extension": ".py",
   "mimetype": "text/x-python",
   "name": "python",
   "nbconvert_exporter": "python",
   "pygments_lexer": "ipython3",
   "version": "3.7.10"
  }
 },
 "nbformat": 4,
 "nbformat_minor": 5
}
