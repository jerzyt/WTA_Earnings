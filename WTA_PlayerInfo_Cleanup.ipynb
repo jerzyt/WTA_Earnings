{
 "cells": [
  {
   "cell_type": "code",
   "execution_count": null,
   "id": "positive-latest",
   "metadata": {},
   "outputs": [],
   "source": [
    "import pandas as pd\n",
    "import numpy as np\n",
    "import re\n",
    "import math"
   ]
  },
  {
   "cell_type": "code",
   "execution_count": null,
   "id": "valid-terrorism",
   "metadata": {},
   "outputs": [],
   "source": [
    "pi = pd.read_pickle('./Data/player_info.pickle')\n",
    "pi.head(50)"
   ]
  },
  {
   "cell_type": "code",
   "execution_count": null,
   "id": "anonymous-chrome",
   "metadata": {},
   "outputs": [],
   "source": [
    "@np.vectorize\n",
    "\n",
    "def parse_age(value):\n",
    "    print('==========================================')\n",
    "    print(value)\n",
    "    print(type(value))\n",
    "    if type(value) == str:\n",
    "        re_res = re.search(r'age (\\d{2})', value)\n",
    "        if re_res:\n",
    "            age = re_res.group(0)\n",
    "            print('age = ' + age)\n",
    "            return age\n",
    "    else:\n",
    "        return None\n",
    "\n",
    "pi['Age'] = parse_age(pi['Born'])"
   ]
  },
  {
   "cell_type": "code",
   "execution_count": null,
   "id": "boring-connection",
   "metadata": {},
   "outputs": [],
   "source": [
    "pi.head(50)"
   ]
  }
 ],
 "metadata": {
  "kernelspec": {
   "display_name": "Python 3",
   "language": "python",
   "name": "python3"
  },
  "language_info": {
   "codemirror_mode": {
    "name": "ipython",
    "version": 3
   },
   "file_extension": ".py",
   "mimetype": "text/x-python",
   "name": "python",
   "nbconvert_exporter": "python",
   "pygments_lexer": "ipython3",
   "version": "3.7.10"
  }
 },
 "nbformat": 4,
 "nbformat_minor": 5
}
