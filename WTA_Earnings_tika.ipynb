{
 "cells": [
  {
   "cell_type": "markdown",
   "id": "steady-technique",
   "metadata": {},
   "source": [
    "# data from: https://wtafiles.wtatennis.com/pdf/rankings/All_Career_Prize_Money.pdf"
   ]
  },
  {
   "cell_type": "code",
   "execution_count": null,
   "id": "static-sacrifice",
   "metadata": {},
   "outputs": [],
   "source": [
    "# data_source = '../Data/All_Career_Prize_Money.pdf'\n",
    "data_source = 'https://wtafiles.wtatennis.com/pdf/rankings/All_Career_Prize_Money.pdf'"
   ]
  },
  {
   "cell_type": "code",
   "execution_count": null,
   "id": "adverse-intention",
   "metadata": {},
   "outputs": [],
   "source": [
    "from tika import parser # pip install tika\n",
    "\n",
    "%time raw = parser.from_file(data_source)\n",
    "print(raw['content'])"
   ]
  },
  {
   "cell_type": "code",
   "execution_count": null,
   "id": "assumed-village",
   "metadata": {},
   "outputs": [],
   "source": [
    "print(raw.keys())"
   ]
  },
  {
   "cell_type": "code",
   "execution_count": null,
   "id": "grateful-church",
   "metadata": {},
   "outputs": [],
   "source": [
    "print(raw['metadata'])"
   ]
  },
  {
   "cell_type": "code",
   "execution_count": null,
   "id": "processed-basket",
   "metadata": {},
   "outputs": [],
   "source": [
    "print(raw['status'])"
   ]
  },
  {
   "cell_type": "code",
   "execution_count": null,
   "id": "twelve-twelve",
   "metadata": {
    "scrolled": true
   },
   "outputs": [],
   "source": [
    "text = raw['content'].split('\\n')\n",
    "print('\\n'.join(text))"
   ]
  },
  {
   "cell_type": "code",
   "execution_count": null,
   "id": "stuck-oliver",
   "metadata": {},
   "outputs": [],
   "source": [
    "import re\n",
    "result = [line for line in text if re.search(r'^\\d+ [^0-9]+ [0-9,$]+', line)] \n",
    "print(len(result))\n",
    "print('\\n'.join(result))"
   ]
  },
  {
   "cell_type": "code",
   "execution_count": null,
   "id": "available-regression",
   "metadata": {},
   "outputs": [],
   "source": [
    "player_earnings = []\n",
    "for line in result:\n",
    "    res = re.search(r'(^\\d+) ([^0-9]+) ([0-9,]+)$', line)\n",
    "    player_earnings.append(res.groups())\n",
    "    print(res.groups())"
   ]
  },
  {
   "cell_type": "code",
   "execution_count": null,
   "id": "backed-piano",
   "metadata": {},
   "outputs": [],
   "source": [
    "import pandas as pd\n",
    "df = pd.DataFrame(player_earnings, columns=['Rank', 'Player', 'Earnings'])\n",
    "df.head(20)"
   ]
  },
  {
   "cell_type": "code",
   "execution_count": null,
   "id": "passive-polish",
   "metadata": {},
   "outputs": [],
   "source": [
    "df['Earnings'] = df['Earnings'].str.replace(',', '').astype(float)\n",
    "df.head(20)"
   ]
  },
  {
   "cell_type": "code",
   "execution_count": null,
   "id": "average-bubble",
   "metadata": {},
   "outputs": [],
   "source": [
    "df.describe()"
   ]
  },
  {
   "cell_type": "code",
   "execution_count": null,
   "id": "rising-cooperative",
   "metadata": {},
   "outputs": [],
   "source": [
    "print(type(df.loc[[5], ['Player']]))"
   ]
  },
  {
   "cell_type": "code",
   "execution_count": null,
   "id": "induced-wrong",
   "metadata": {},
   "outputs": [],
   "source": [
    "df.loc[[8], ['Player']].iat[0,0]\n",
    "\n"
   ]
  },
  {
   "cell_type": "code",
   "execution_count": null,
   "id": "phantom-phase",
   "metadata": {},
   "outputs": [],
   "source": [
    "print(df)"
   ]
  },
  {
   "cell_type": "code",
   "execution_count": null,
   "id": "induced-bracelet",
   "metadata": {},
   "outputs": [],
   "source": []
  }
 ],
 "metadata": {
  "kernelspec": {
   "display_name": "Python 3",
   "language": "python",
   "name": "python3"
  },
  "language_info": {
   "codemirror_mode": {
    "name": "ipython",
    "version": 3
   },
   "file_extension": ".py",
   "mimetype": "text/x-python",
   "name": "python",
   "nbconvert_exporter": "python",
   "pygments_lexer": "ipython3",
   "version": "3.7.10"
  }
 },
 "nbformat": 4,
 "nbformat_minor": 5
}
