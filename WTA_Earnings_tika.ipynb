{
 "cells": [
  {
   "cell_type": "markdown",
   "id": "steady-technique",
   "metadata": {},
   "source": [
    "# data from: https://wtafiles.wtatennis.com/pdf/rankings/All_Career_Prize_Money.pdf"
   ]
  },
  {
   "cell_type": "code",
   "execution_count": null,
   "id": "static-sacrifice",
   "metadata": {},
   "outputs": [],
   "source": [
    "from platform import python_version\n",
    "print(python_version())\n",
    "\n",
    "# data_source = '../Data/All_Career_Prize_Money.pdf'\n",
    "data_source = 'https://wtafiles.wtatennis.com/pdf/rankings/All_Career_Prize_Money.pdf'"
   ]
  },
  {
   "cell_type": "code",
   "execution_count": null,
   "id": "adverse-intention",
   "metadata": {},
   "outputs": [],
   "source": [
    "from tika import parser # pip install tika\n",
    "\n",
    "%time raw = parser.from_file(data_source)\n",
    "print(raw['content'])"
   ]
  },
  {
   "cell_type": "code",
   "execution_count": null,
   "id": "assumed-village",
   "metadata": {},
   "outputs": [],
   "source": [
    "#print(raw.keys())\n",
    "#print(raw['metadata'])\n",
    "#print(raw['status'])\n",
    "text = raw['content'].split('\\n')\n",
    "#print('\\n'.join(text))"
   ]
  },
  {
   "cell_type": "code",
   "execution_count": null,
   "id": "stuck-oliver",
   "metadata": {
    "scrolled": true
   },
   "outputs": [],
   "source": [
    "import re\n",
    "# this statement selects only lines of text which contain player's earning data\n",
    "result = [line for line in text if re.search(r'^\\d+ [^0-9]+ [0-9,$]+', line)] \n",
    "print(len(result))\n",
    "print('\\n'.join(result))"
   ]
  },
  {
   "cell_type": "code",
   "execution_count": null,
   "id": "available-regression",
   "metadata": {
    "scrolled": true
   },
   "outputs": [],
   "source": [
    "player_earnings = []\n",
    "player_names = []\n",
    "last_name = None\n",
    "first_name = None\n",
    "country = None\n",
    "\n",
    "for line in result:\n",
    "    # parse player data into groups: 1-(Rank), 2-(Last Name, First Name, Country) and 3-(Earnings)\n",
    "    player_info = re.search(r'(^\\d+) ([^0-9]+) ([0-9,]+)$', line)\n",
    "    # split group(2) into individual fields\n",
    "    name_country = re.search(r'(^[\\w\\s\\.\\'\\(\\)-]+), ([\\w\\.\\(\\) -]+) ([A-Z]{3}?$)', player_info.group(2), re.UNICODE)\n",
    "    if name_country:\n",
    "        last_name, first_name, country = name_country.groups()\n",
    "    else:\n",
    "        name_country = re.search(r'(^[\\w\\s\\'\\(\\)-]+), ([\\w\\.\\(\\) -]+)', player_info.group(2), re.UNICODE)\n",
    "        if name_country:\n",
    "            last_name, first_name= name_country.groups()\n",
    "            country = None\n",
    "        else:\n",
    "            print(player_info.group(2))\n",
    "    player_earnings.append([player_info.group(1), last_name, first_name, country, player_info.group(3)])"
   ]
  },
  {
   "cell_type": "code",
   "execution_count": null,
   "id": "backed-piano",
   "metadata": {},
   "outputs": [],
   "source": [
    "import numpy as np\n",
    "\n",
    "@np.vectorize\n",
    "def create_wiki_link(first_name, last_name):\n",
    "    return 'https://en.wikipedia.org/wiki/' + first_name.title() +'_' + last_name.title()\n",
    "\n",
    "import pandas as pd\n",
    "df = pd.DataFrame(player_earnings, columns=['Rank', 'LastName', 'FirstName', 'Country', 'Earnings'])\n",
    "df['Earnings'] = df['Earnings'].str.replace(',', '').astype(float)\n",
    "df['WikiLink'] = create_wiki_link(df['FirstName'], df['LastName'])\n",
    "df.to_excel('earnings.xlsx', index=False)\n",
    "df.head(50)"
   ]
  },
  {
   "cell_type": "code",
   "execution_count": null,
   "id": "finite-firewall",
   "metadata": {},
   "outputs": [],
   "source": [
    "import matplotlib.pyplot as plt\n",
    "import seaborn as sns\n",
    "from IPython.core.pylabtools import figsize\n",
    "\n",
    "figsize(12.5, 7)\n",
    "scatter, ax = plt.subplots()\n",
    "ax = sns.scatterplot(x='Rank', y='Earnings', data=df.head(50))\n",
    "#ax = sns.scatterplot(x='Rank', y='Earnings', data=df)\n",
    "ax.set(xscale='log', yscale='log')\n",
    "# I hate doing this: the plotting routines should pick up better ranges, but for now, I don't \n",
    "# have a better solution to get reasonable charts.\n",
    "ax.set_xlim([1, 12000])\n",
    "ax.set_ylim([10000000, 100000000])\n",
    "plt.show()\n",
    "# P.S. This chart sucks - needs a lot of tweaking to make it useful in general"
   ]
  },
  {
   "cell_type": "code",
   "execution_count": null,
   "id": "healthy-bullet",
   "metadata": {},
   "outputs": [],
   "source": [
    "df = df.replace({None:'---'})"
   ]
  },
  {
   "cell_type": "code",
   "execution_count": null,
   "id": "smart-allowance",
   "metadata": {},
   "outputs": [],
   "source": [
    "df_sum = df.groupby('Country')['Earnings'].sum()\n",
    "df_sum.sort_values(ascending=False).head(50)\n",
    "df_sum.describe()"
   ]
  },
  {
   "cell_type": "code",
   "execution_count": null,
   "id": "manufactured-webcam",
   "metadata": {},
   "outputs": [],
   "source": [
    "df_sum = df_sum.to_frame()\n",
    "type(df_sum)"
   ]
  },
  {
   "cell_type": "code",
   "execution_count": null,
   "id": "fitted-format",
   "metadata": {},
   "outputs": [],
   "source": [
    "df_sum"
   ]
  },
  {
   "cell_type": "code",
   "execution_count": null,
   "id": "balanced-emphasis",
   "metadata": {},
   "outputs": [],
   "source": [
    "box, ax = plt.subplots()\n",
    "ax = sns.boxplot(data=df, x='Country', y='Earnings')\n",
    "plt.show()"
   ]
  },
  {
   "cell_type": "code",
   "execution_count": null,
   "id": "confirmed-citizenship",
   "metadata": {},
   "outputs": [],
   "source": [
    "box, ax = plt.subplots()\n",
    "ax = sns.barplot(data=df_sum, y='Earnings', use_index=True)\n",
    "plt.show()"
   ]
  },
  {
   "cell_type": "code",
   "execution_count": null,
   "id": "based-correction",
   "metadata": {},
   "outputs": [],
   "source": []
  }
 ],
 "metadata": {
  "kernelspec": {
   "display_name": "Python 3",
   "language": "python",
   "name": "python3"
  },
  "language_info": {
   "codemirror_mode": {
    "name": "ipython",
    "version": 3
   },
   "file_extension": ".py",
   "mimetype": "text/x-python",
   "name": "python",
   "nbconvert_exporter": "python",
   "pygments_lexer": "ipython3",
   "version": "3.7.10"
  }
 },
 "nbformat": 4,
 "nbformat_minor": 5
}
