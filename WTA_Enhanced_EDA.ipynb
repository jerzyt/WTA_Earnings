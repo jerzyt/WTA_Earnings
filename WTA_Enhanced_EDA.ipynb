{
 "cells": [
  {
   "cell_type": "code",
   "execution_count": null,
   "id": "greater-small",
   "metadata": {},
   "outputs": [],
   "source": [
    "import pandas as pd\n",
    "import numpy as np"
   ]
  },
  {
   "cell_type": "code",
   "execution_count": null,
   "id": "chronic-willow",
   "metadata": {},
   "outputs": [],
   "source": [
    "df = pd.read_pickle('./Data/earnings.pickle')\n",
    "df.head(50)"
   ]
  },
  {
   "cell_type": "code",
   "execution_count": null,
   "id": "instant-speech",
   "metadata": {},
   "outputs": [],
   "source": [
    "pi = pd.read_pickle('./Data/player_info_enhanced.pickle')\n",
    "pi.head(50)"
   ]
  },
  {
   "cell_type": "code",
   "execution_count": null,
   "id": "radio-agency",
   "metadata": {},
   "outputs": [],
   "source": [
    "pi.index.rename('WikiLink', inplace=True)\n",
    "\n",
    "dfe = pd.merge(\n",
    "    df,\n",
    "    pi,\n",
    "    how=\"inner\",\n",
    "    on='WikiLink',\n",
    "    sort=False,\n",
    "    suffixes=(\"_x\", \"_y\"),\n",
    "    copy=True,\n",
    "    indicator=False,\n",
    "    validate=None,\n",
    ")\n",
    "\n",
    "dfe.head(50)"
   ]
  },
  {
   "cell_type": "code",
   "execution_count": null,
   "id": "corporate-hampshire",
   "metadata": {},
   "outputs": [],
   "source": []
  }
 ],
 "metadata": {
  "kernelspec": {
   "display_name": "Python 3",
   "language": "python",
   "name": "python3"
  },
  "language_info": {
   "codemirror_mode": {
    "name": "ipython",
    "version": 3
   },
   "file_extension": ".py",
   "mimetype": "text/x-python",
   "name": "python",
   "nbconvert_exporter": "python",
   "pygments_lexer": "ipython3",
   "version": "3.7.10"
  }
 },
 "nbformat": 4,
 "nbformat_minor": 5
}
