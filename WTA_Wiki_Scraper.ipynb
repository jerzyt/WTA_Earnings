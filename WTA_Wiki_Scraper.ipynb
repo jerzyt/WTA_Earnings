{
 "cells": [
  {
   "cell_type": "code",
   "execution_count": null,
   "id": "knowing-tiffany",
   "metadata": {},
   "outputs": [],
   "source": [
    "import pandas as pd\n",
    "\n",
    "url = 'https://en.wikipedia.org/wiki/Serena_Williams'\n",
    "#url = 'https://en.wikipedia.org/wiki/Venus_Williams'\n",
    "#url = 'https://en.wikipedia.org/wiki/Simona_Halep'\n",
    "#url = 'https://en.wikipedia.org/wiki/Maria_Sharapova'\n",
    "#url = 'https://en.wikipedia.org/wiki/Caroline_Wozniacki'\n",
    "#url = 'https://en.wikipedia.org/wiki/Victoria_Azarenka'\n",
    "#url = 'https://en.wikipedia.org/wiki/Petra_Kvitova'\n",
    "#url = 'https://en.wikipedia.org/wiki/Angelique_Kerber'\n",
    "#url = 'https://en.wikipedia.org/wiki/Agnieszka_Radwanska'\n",
    "#url = 'https://en.wikipedia.org/wiki/Svetlana_Kuznetsova'\n",
    "#url = 'https://en.wikipedia.org/wiki/Martina_Hingis'\n",
    "#url = 'https://en.wikipedia.org/wiki/Garbine_Muguruza'\n",
    "#url = 'https://en.wikipedia.org/wiki/Kim_Clijsters'\n",
    "#url = 'https://en.wikipedia.org/wiki/Karolina_Pliskova'\n",
    "#url = 'https://en.wikipedia.org/wiki/Ashleigh_Barty'\n",
    "#url = 'https://en.wikipedia.org/wiki/Lindsay_Davenport'\n",
    "#url = 'https://en.wikipedia.org/wiki/Steffi_Graf'\n",
    "#url = 'https://en.wikipedia.org/wiki/Martina_Navratilova'\n",
    "#url = 'https://en.wikipedia.org/wiki/Elina_Svitolina'\n",
    "#url = 'https://en.wikipedia.org/wiki/Naomi_Osaka'\n",
    "#url = 'https://en.wikipedia.org/wiki/Justine_Henin'\n",
    "#url = 'https://en.wikipedia.org/wiki/Samantha_Stosur'\n",
    "#url = 'https://en.wikipedia.org/wiki/Jelena_Jankovic'\n",
    "\n",
    "#url = 'https://en.wikipedia.org/wiki/Iga_Swiatek'\n",
    "#url = 'https://en.wikipedia.org/wiki/Cori_Gauff'\n",
    "#url = 'https://en.wikipedia.org/wiki/Emma_Raducanu'"
   ]
  },
  {
   "cell_type": "code",
   "execution_count": null,
   "id": "temporal-subscriber",
   "metadata": {},
   "outputs": [],
   "source": [
    "tables = pd.read_html(url)\n",
    "print(type(tables))\n",
    "print(len(tables))"
   ]
  },
  {
   "cell_type": "code",
   "execution_count": null,
   "id": "refined-glory",
   "metadata": {},
   "outputs": [],
   "source": [
    "i = 0\n",
    "while i < 5:\n",
    "    table =  tables[i]\n",
    "    (rows, cols) = table.shape\n",
    "    if (rows < 10) | (cols < 2):\n",
    "        i += 1\n",
    "        continue\n",
    "    else:\n",
    "        print(i)\n",
    "        print(table.shape)\n",
    "        break\n",
    "        \n",
    "table"
   ]
  },
  {
   "cell_type": "code",
   "execution_count": null,
   "id": "juvenile-account",
   "metadata": {},
   "outputs": [],
   "source": [
    "if len(table.columns) == 2:\n",
    "    table.columns = ['Attr', 'Value']\n",
    "else:\n",
    "    table.columns = ['Attr', 'Value', 'Extra']\n",
    "table"
   ]
  },
  {
   "cell_type": "code",
   "execution_count": null,
   "id": "controlling-pizza",
   "metadata": {},
   "outputs": [],
   "source": [
    "row_lookup = {\n",
    "    'CountryWiki': 'Country',\n",
    "    'Born': 'Born',\n",
    "    'Height': 'Height',\n",
    "    'TurnedPro': 'Turned.*pro',\n",
    "    'Retired': 'Retired',\n",
    "    'Coach': 'Coach',\n",
    "    'EarningsWiki': 'Prize.*money',\n",
    "    'CareerRecord': 'Career.*record',\n",
    "    'Titles': 'Career.*titles',\n",
    "    'HighRank': 'Highes.*ranking',\n",
    "    }\n",
    "row_lookup"
   ]
  },
  {
   "cell_type": "markdown",
   "id": "psychological-municipality",
   "metadata": {},
   "source": [
    "The table needs to be navigated by looping through the data frame rows and the looping needs to abort once the value 'Doubles' is encountered.  Otherwise, looping by lookup of the Attr names returns dataframes if the same attribute is found multiple times."
   ]
  },
  {
   "cell_type": "code",
   "execution_count": null,
   "id": "existing-survey",
   "metadata": {},
   "outputs": [],
   "source": [
    "doubles_idx = table.index[table['Attr'] == 'Doubles'].to_list()\n",
    "sub_tab = table[:doubles_idx[0]]\n",
    "sub_tab"
   ]
  },
  {
   "cell_type": "markdown",
   "id": "extra-vessel",
   "metadata": {},
   "source": [
    "OK, got the proper subset of the data table (sub_tab), but still having problem with extracting the cell values.\n",
    "What next?\n",
    "Need the following to extract a value of the cell:  \n",
    "sub_tab.loc[sub_tab.index[4], 'Value']"
   ]
  },
  {
   "cell_type": "code",
   "execution_count": null,
   "id": "therapeutic-conditioning",
   "metadata": {},
   "outputs": [],
   "source": [
    "for key in row_lookup.keys():\n",
    "    print(key)\n",
    "    val = row_lookup[key]\n",
    "    #print(val)\n",
    "    if len(sub_tab[sub_tab['Attr'].str.contains(val, regex=True, na=False)]) > 0:\n",
    "        row_idx = sub_tab[sub_tab['Attr'].str.contains(val, regex=True, na=False)].index[0]\n",
    "        print(sub_tab.loc[sub_tab.index[row_idx], 'Value'])\n"
   ]
  },
  {
   "cell_type": "code",
   "execution_count": null,
   "id": "automatic-amplifier",
   "metadata": {},
   "outputs": [],
   "source": []
  }
 ],
 "metadata": {
  "kernelspec": {
   "display_name": "Python 3",
   "language": "python",
   "name": "python3"
  },
  "language_info": {
   "codemirror_mode": {
    "name": "ipython",
    "version": 3
   },
   "file_extension": ".py",
   "mimetype": "text/x-python",
   "name": "python",
   "nbconvert_exporter": "python",
   "pygments_lexer": "ipython3",
   "version": "3.7.10"
  }
 },
 "nbformat": 4,
 "nbformat_minor": 5
}
